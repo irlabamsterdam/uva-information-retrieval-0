{
 "cells": [
  {
   "cell_type": "markdown",
   "id": "67b2e65f",
   "metadata": {
    "pycharm": {
     "name": "#%% md\n"
    }
   },
   "source": [
    "Before you turn this assignment in, make sure everything runs as expected by going to the menubar and running: \n",
    "\n",
    "**Kernel $\\rightarrow$ Restart & Run All**\n",
    "\n",
    "Please replace all spots marked with `# ADD YOUR CODE HERE` or `ADD YOUR ANSWER HERE`.\n",
    "\n",
    "And start by filling in your name and student_id below:"
   ]
  },
  {
   "cell_type": "code",
   "execution_count": null,
   "id": "f91c1924",
   "metadata": {
    "pycharm": {
     "name": "#%%\n"
    }
   },
   "outputs": [],
   "source": [
    "NAME = \"\"\n",
    "STUDENT_ID = \"\""
   ]
  },
  {
   "cell_type": "code",
   "execution_count": null,
   "id": "083739d2",
   "metadata": {
    "pycharm": {
     "name": "#%%\n"
    }
   },
   "outputs": [],
   "source": [
    "assert len(NAME) > 0, \"Please fill in your name\"\n",
    "assert len(STUDENT_ID) > 0, \"Please fill in your student id\""
   ]
  },
  {
   "cell_type": "markdown",
   "id": "ee901329",
   "metadata": {
    "pycharm": {
     "name": "#%% md\n"
    }
   },
   "source": [
    "---"
   ]
  },
  {
   "cell_type": "code",
   "execution_count": null,
   "id": "d88936fe",
   "metadata": {
    "deletable": false,
    "editable": false,
    "jupyter": {
     "outputs_hidden": false
    },
    "nbgrader": {
     "cell_type": "code",
     "checksum": "c59c207ae450d268a4634db1ff8303d0",
     "grade": false,
     "grade_id": "cell-63815ccff72b2563",
     "locked": true,
     "schema_version": 3,
     "solution": false,
     "task": false
    },
    "pycharm": {
     "name": "#%%\n"
    }
   },
   "outputs": [],
   "source": [
    "import doctest\n",
    "import itertools\n",
    "import string\n",
    "\n",
    "import pandas as pd\n",
    "\n",
    "from collections import defaultdict, Counter\n",
    "from typing import Callable, Dict, List"
   ]
  },
  {
   "cell_type": "markdown",
   "id": "bd014fbc",
   "metadata": {
    "collapsed": false,
    "deletable": false,
    "editable": false,
    "jupyter": {
     "outputs_hidden": false
    },
    "nbgrader": {
     "cell_type": "markdown",
     "checksum": "4de2932333fc9f1b1e7a6bc4449ef98c",
     "grade": false,
     "grade_id": "cell-99102f1e8a6d9213",
     "locked": true,
     "schema_version": 3,
     "solution": false,
     "task": false
    },
    "pycharm": {
     "name": "#%% md\n"
    }
   },
   "source": [
    "# Part I - Intro to IR"
   ]
  },
  {
   "cell_type": "markdown",
   "id": "7969a8bc",
   "metadata": {
    "collapsed": false,
    "deletable": false,
    "editable": false,
    "jupyter": {
     "outputs_hidden": false
    },
    "nbgrader": {
     "cell_type": "markdown",
     "checksum": "02d1da6d0805759dce0416592a8cb2c0",
     "grade": false,
     "grade_id": "cell-a753aa40e8f34d54",
     "locked": true,
     "schema_version": 3,
     "solution": false,
     "task": false
    },
    "pycharm": {
     "name": "#%% md\n"
    }
   },
   "source": [
    "## 1.1 - Information Needs [1.5 pts]\n",
    "\n",
    "📝 Explain the difference between a user's search query and their information need. Give an example of a search query that fits three different potential information needs."
   ]
  },
  {
   "cell_type": "markdown",
   "id": "76244eb4",
   "metadata": {
    "collapsed": false,
    "deletable": false,
    "jupyter": {
     "outputs_hidden": false
    },
    "nbgrader": {
     "cell_type": "markdown",
     "checksum": "0961da6e794289bdacfef3e708eb67ad",
     "grade": true,
     "grade_id": "cell-54eed3db71d7922b",
     "locked": false,
     "points": 0,
     "schema_version": 3,
     "solution": true,
     "task": false
    },
    "pycharm": {
     "name": "#%% md\n"
    }
   },
   "source": [
    "<div class=\"alert alert-info\">ADD YOUR ANSWER HERE</div>"
   ]
  },
  {
   "cell_type": "markdown",
   "id": "9c58beb6",
   "metadata": {
    "collapsed": false,
    "deletable": false,
    "editable": false,
    "jupyter": {
     "outputs_hidden": false
    },
    "nbgrader": {
     "cell_type": "markdown",
     "checksum": "a100a71e59120a249c07984a5d23f91b",
     "grade": false,
     "grade_id": "cell-253882e464321ba1",
     "locked": true,
     "points": 0,
     "schema_version": 3,
     "solution": false,
     "task": true
    },
    "pycharm": {
     "name": "#%% md\n"
    }
   },
   "source": [
    "## 1.2 - Refining information needs [1.5 pts]\n",
    "\n",
    "📝 Without having learned specific techniques yet, reflect on your own usage of web search. Can you recall at least three things search engines do that help clarify your information need?"
   ]
  },
  {
   "cell_type": "markdown",
   "id": "bc8cb621",
   "metadata": {
    "collapsed": false,
    "deletable": false,
    "jupyter": {
     "outputs_hidden": false
    },
    "nbgrader": {
     "cell_type": "markdown",
     "checksum": "860cf045404aa16251acc3f2a3a7bb4b",
     "grade": true,
     "grade_id": "cell-604489b2b9754da9",
     "locked": false,
     "points": 0,
     "schema_version": 3,
     "solution": true,
     "task": false
    },
    "pycharm": {
     "name": "#%% md\n"
    }
   },
   "source": [
    "<div class=\"alert alert-info\">ADD YOUR ANSWER HERE</div>"
   ]
  },
  {
   "cell_type": "markdown",
   "id": "97e67749",
   "metadata": {
    "collapsed": false,
    "deletable": false,
    "editable": false,
    "jupyter": {
     "outputs_hidden": false
    },
    "nbgrader": {
     "cell_type": "markdown",
     "checksum": "62405f229c54724a675a8b3ad0d7f251",
     "grade": false,
     "grade_id": "cell-365e42d275caadce",
     "locked": true,
     "points": 0,
     "schema_version": 3,
     "solution": false,
     "task": true
    },
    "pycharm": {
     "name": "#%% md\n"
    }
   },
   "source": [
    "## 1.3 - Vocabulary Mismatch [1.5 pts]\n",
    "\n",
    "📝 What is the vocabulary mismatch problem? Explain the problem and list three potential causes with examples:"
   ]
  },
  {
   "cell_type": "markdown",
   "id": "a26d2d74",
   "metadata": {
    "collapsed": false,
    "deletable": false,
    "jupyter": {
     "outputs_hidden": false
    },
    "nbgrader": {
     "cell_type": "markdown",
     "checksum": "ab4d08f1c03f8679aee2f58a9f6756aa",
     "grade": true,
     "grade_id": "cell-3acf756248e73ff6",
     "locked": false,
     "points": 0,
     "schema_version": 3,
     "solution": true,
     "task": false
    },
    "pycharm": {
     "name": "#%% md\n"
    }
   },
   "source": [
    "<div class=\"alert alert-info\">ADD YOUR ANSWER HERE</div>"
   ]
  },
  {
   "cell_type": "markdown",
   "id": "7ff65c68",
   "metadata": {
    "collapsed": false,
    "deletable": false,
    "editable": false,
    "jupyter": {
     "outputs_hidden": false
    },
    "nbgrader": {
     "cell_type": "markdown",
     "checksum": "a885266401bfc2372fe74ce70a0d1bfb",
     "grade": false,
     "grade_id": "cell-b2bb8de77831a5ac",
     "locked": true,
     "points": 0,
     "schema_version": 3,
     "solution": false,
     "task": true
    },
    "pycharm": {
     "name": "#%% md\n"
    }
   },
   "source": [
    "## 1.4 Types of Relevance [1.5 pts]\n",
    "📝 In information retrieval, we often talk about search results being *relevant*. A document might be *topically relevant* to a query if it covers the same subject matter. However, a document can be relevant or irrelevant in multiple ways. **List three types of relevance beyond topical relevance with example scenarios**:"
   ]
  },
  {
   "cell_type": "markdown",
   "id": "aa14cda2",
   "metadata": {
    "collapsed": false,
    "deletable": false,
    "jupyter": {
     "outputs_hidden": false
    },
    "nbgrader": {
     "cell_type": "markdown",
     "checksum": "82113826fa299297059e4368d5289560",
     "grade": true,
     "grade_id": "cell-d4aba1940ecad164",
     "locked": false,
     "points": 0,
     "schema_version": 3,
     "solution": true,
     "task": false
    },
    "pycharm": {
     "name": "#%% md\n"
    }
   },
   "source": [
    "<div class=\"alert alert-info\">ADD YOUR ANSWER HERE</div>"
   ]
  },
  {
   "cell_type": "markdown",
   "id": "880dcf55",
   "metadata": {
    "collapsed": false,
    "deletable": false,
    "editable": false,
    "jupyter": {
     "outputs_hidden": false
    },
    "nbgrader": {
     "cell_type": "markdown",
     "checksum": "4b39e2a278b3b2dd51c1419795f36658",
     "grade": false,
     "grade_id": "cell-17f390fa27e3a9da",
     "locked": true,
     "schema_version": 3,
     "solution": false,
     "task": false
    },
    "pycharm": {
     "name": "#%% md\n"
    }
   },
   "source": [
    "# Part II - Building a Boolean Search Engine for Netflix\n",
    "\n",
    "In the following, we will build an inverted index for Netflix and use it to execute boolean search queries. Afterward, we will extend our boolean search engine to not only retrieve but rank the search results.\n",
    "\n",
    "## 💡 Doctests\n",
    "Before we start coding, note that many coding tasks in your assignment come with a little helper in the form of [doctests](https://docs.python.org/3/library/doctest.html). At the top of many coding tasks, you will see a comment section like this:\n",
    "```\n",
    "def create_index(df: pd.DataFrame) -> Dict[str, List[int]]:    \n",
    "    \"\"\"\n",
    "    >>> create_index(df)[\"witcher\"]\n",
    "    [3829, 4303, 4305, 4416, 4727, 5168, 5207]\n",
    "    \n",
    "    >>> create_index(df)[\"ozark\"]\n",
    "    [2230, 5695]\n",
    "    \"\"\"\n",
    "    ...\n",
    "    \n",
    "test(create_index)\n",
    "```\n",
    "\n",
    "These are doctests, a standard Python way to define simple test cases inside code comments. You can run these tests by calling the `test` method on your function: `test(my_method)`. Note that you don't supply parameters to your method here, these are added by the doctest library.\n",
    "\n",
    "Use these tests to verify your implementation before submitting your notebook. Note, however, that the final grading is performed against additional tests that are not included in this notebook.\n",
    "\n",
    "\n",
    "## Load data\n",
    "Now let's start building a search engine by downloading a dataset of Netflix movies into a Pandas DataFrame by executing the cell below:"
   ]
  },
  {
   "cell_type": "code",
   "execution_count": null,
   "id": "9de33150",
   "metadata": {
    "deletable": false,
    "editable": false,
    "jupyter": {
     "outputs_hidden": false
    },
    "nbgrader": {
     "cell_type": "code",
     "checksum": "de0f432a7fda6da8b5521ac4d2f321da",
     "grade": false,
     "grade_id": "cell-adbf65746b57e77d",
     "locked": true,
     "schema_version": 3,
     "solution": false,
     "task": false
    },
    "pycharm": {
     "name": "#%%\n"
    }
   },
   "outputs": [],
   "source": [
    "def load_movies(\n",
    "    url: str = \"https://raw.githubusercontent.com/irlabamsterdam/uva-information-retrieval-0/main/data/netflix.csv\"\n",
    ") -> pd.DataFrame:\n",
    "    df = pd.read_csv(url)\n",
    "    df = df.fillna(\"\")\n",
    "    df[\"genres\"] = df[\"genres\"].str.split(\"|\")\n",
    "    df[\"directors\"] = df[\"directors\"].str.split(\"|\")\n",
    "    df[\"actors\"] = df[\"actors\"].str.split(\"|\")\n",
    "    df[\"production_countries\"] = df[\"production_countries\"].str.split(\"|\")\n",
    "    return df\n",
    "\n",
    "if __name__ == \"__main__\":\n",
    "    def test(fn: Callable):\n",
    "        doctest.run_docstring_examples(fn, globals(), verbose=True, name=fn.__name__)\n",
    "else:\n",
    "    def test(fn: Callable): pass\n",
    "    \n",
    "df = load_movies()\n",
    "df.head()"
   ]
  },
  {
   "cell_type": "markdown",
   "id": "4b0b58a0",
   "metadata": {
    "collapsed": false,
    "deletable": false,
    "editable": false,
    "jupyter": {
     "outputs_hidden": false
    },
    "nbgrader": {
     "cell_type": "markdown",
     "checksum": "c2e4aef9c9e80678e8f2924a847587c0",
     "grade": false,
     "grade_id": "cell-6db590ef1ce6bc21",
     "locked": true,
     "schema_version": 3,
     "solution": false,
     "task": false
    },
    "pycharm": {
     "name": "#%% md\n"
    }
   },
   "source": [
    "## 2.1 Inverted Index [2 pts]\n",
    "\n",
    "📝  The first task is to build an inverted index for tokens in the **title and description** of each movie or show.\n",
    "Since we will learn how to clean and process text in an upcoming week, use the provided method `tokenize(text: str) -> List[str]` to split text into individual words.\n",
    "\n",
    "Create your inverted index as a Python dictionary, pointing from each token to a **posting list of movie ids sorted in ascending order**:\n",
    "\n",
    "```Python\n",
    "{\n",
    "    \"netflix\": [1029, 1038, 1155, ...],\n",
    "    \"original\": [218, 508, 1029, ...],\n",
    "    ...\n",
    "}\n",
    "```\n",
    "\n",
    "</br>\n",
    "<div class=\"alert alert-danger\">\n",
    "⚠️ Ensure that each movie id is only added once for a given token. Meaning, if a movie description and title contains the same word multiple times, your posting list for the given word should contain only one reference to the movie. We will look into counting terms for ranking in week 3.\n",
    "</div>\n",
    "<div class=\"alert alert-warning\">\n",
    "💡 Tip: The \"collections.defaultdict\" class might be useful to simplify your code, but it is not necessary to resolve this task.\n",
    "</div>"
   ]
  },
  {
   "cell_type": "code",
   "execution_count": null,
   "id": "d734e482",
   "metadata": {
    "deletable": false,
    "editable": false,
    "jupyter": {
     "outputs_hidden": false
    },
    "nbgrader": {
     "cell_type": "code",
     "checksum": "a4d2e554b9eb5be7fdc6ef8660952e10",
     "grade": false,
     "grade_id": "cell-f39cb00c02cfd204",
     "locked": true,
     "schema_version": 3,
     "solution": false,
     "task": false
    },
    "pycharm": {
     "name": "#%%\n"
    }
   },
   "outputs": [],
   "source": [
    "def tokenize(text: str) -> List[str]:    \n",
    "    # Lowercase all text\n",
    "    text = text.lower()\n",
    "    # Naively remove all punctuation from text\n",
    "    text = text.translate(str.maketrans(\"\", \"\", string.punctuation))\n",
    "    # Naively split text into tokens on whitespace\n",
    "    return text.split()"
   ]
  },
  {
   "cell_type": "code",
   "execution_count": null,
   "id": "d5694d19",
   "metadata": {
    "deletable": false,
    "jupyter": {
     "outputs_hidden": false
    },
    "nbgrader": {
     "cell_type": "code",
     "checksum": "6a023a5b6877179aa6a1cfb542713581",
     "grade": false,
     "grade_id": "cell-2e712df3f92f9a7b",
     "locked": false,
     "schema_version": 3,
     "solution": true,
     "task": false
    },
    "pycharm": {
     "name": "#%%\n"
    }
   },
   "outputs": [],
   "source": [
    "def create_index(df: pd.DataFrame) -> Dict[str, List[int]]:\n",
    "    \"\"\"\n",
    "    >>> index = create_index(df)\n",
    "    >>> index[\"bridgerton\"]\n",
    "    [2657, 5716]\n",
    "    \n",
    "    >>> index[\"witcher\"]\n",
    "    [2648, 3373, 3826, 4050, 4287, 4882, 5550, 5800]\n",
    "    \n",
    "    >>> len(index)\n",
    "    25945\n",
    "    \"\"\"\n",
    "    index = {}\n",
    "\n",
    "    # Example of how to iterate over a dataframe\n",
    "    for i, row in df.iterrows():\n",
    "        # You can access details for each movie using the row variable:\n",
    "        # E.g., row[\"id\"], row[\"title\"], row[\"description\"]\n",
    "        pass\n",
    "    \n",
    "    # ADD YOUR CODE HERE\n",
    "\n",
    "    return index\n",
    "\n",
    "index = create_index(df)"
   ]
  },
  {
   "cell_type": "code",
   "execution_count": null,
   "id": "34c5c304",
   "metadata": {
    "deletable": false,
    "editable": false,
    "jupyter": {
     "outputs_hidden": false
    },
    "nbgrader": {
     "cell_type": "code",
     "checksum": "e6ba98fe2bbdeba5f799d8531af9ba93",
     "grade": true,
     "grade_id": "cell-b1a5273a015edffa",
     "locked": true,
     "points": 0,
     "schema_version": 3,
     "solution": false,
     "task": false
    },
    "pycharm": {
     "name": "#%%\n"
    }
   },
   "outputs": [],
   "source": [
    "test(create_index)"
   ]
  },
  {
   "cell_type": "code",
   "execution_count": null,
   "id": "e1ecabb5",
   "metadata": {
    "deletable": false,
    "nbgrader": {
     "cell_type": "code",
     "checksum": "82e5ea9ff2b5e4cbab60835db039de39",
     "grade": false,
     "grade_id": "cell-410e78497fa81bce",
     "locked": false,
     "schema_version": 3,
     "solution": true,
     "task": false
    },
    "pycharm": {
     "name": "#%%\n"
    }
   },
   "outputs": [],
   "source": [
    "answer_2_2_1 = 0\n",
    "# ADD YOUR CODE HERE"
   ]
  },
  {
   "cell_type": "code",
   "execution_count": null,
   "id": "00db9b21",
   "metadata": {
    "deletable": false,
    "editable": false,
    "nbgrader": {
     "cell_type": "code",
     "checksum": "f6962f64d40f4a7b3d0b8ead7c69c104",
     "grade": true,
     "grade_id": "cell-089db2375f0cfc83",
     "locked": true,
     "points": 0.5,
     "schema_version": 3,
     "solution": false,
     "task": false
    },
    "pycharm": {
     "name": "#%%\n"
    }
   },
   "outputs": [],
   "source": [
    "assert answer_2_2_1 >= 0, \"Vocabulary size should be a non-negative number\""
   ]
  },
  {
   "cell_type": "markdown",
   "id": "a29ba03f",
   "metadata": {
    "deletable": false,
    "editable": false,
    "nbgrader": {
     "cell_type": "markdown",
     "checksum": "a5065cc0a4b58b0a0dabbdf0b1616b72",
     "grade": false,
     "grade_id": "cell-39e771518a676814",
     "locked": true,
     "schema_version": 3,
     "solution": false,
     "task": false
    },
    "pycharm": {
     "name": "#%% md\n"
    }
   },
   "source": [
    "### 2.2.2 What is the longest document in your index (in terms of number of unique tokens)? [0.5 pts]"
   ]
  },
  {
   "cell_type": "code",
   "execution_count": null,
   "id": "2754ecfc",
   "metadata": {
    "deletable": false,
    "nbgrader": {
     "cell_type": "code",
     "checksum": "03560002dc564fe26b1d03c580fc68e7",
     "grade": false,
     "grade_id": "cell-3b8db2544ca49184",
     "locked": false,
     "schema_version": 3,
     "solution": true,
     "task": false
    },
    "pycharm": {
     "name": "#%%\n"
    }
   },
   "outputs": [],
   "source": [
    "answer_2_2_2 = 0\n",
    "# ADD YOUR CODE HERE"
   ]
  },
  {
   "cell_type": "code",
   "execution_count": null,
   "id": "316ad426-d0c7-41bd-8ffe-912e7a28dc37",
   "metadata": {
    "deletable": false,
    "editable": false,
    "nbgrader": {
     "cell_type": "code",
     "checksum": "4ba960a4e42e846ecd6f0b56c2c89321",
     "grade": true,
     "grade_id": "cell-e07e854564c59554",
     "locked": true,
     "points": 0,
     "schema_version": 3,
     "solution": false,
     "task": false
    },
    "pycharm": {
     "name": "#%%\n"
    }
   },
   "outputs": [],
   "source": [
    "assert 0 <= answer_2_2_2 <= 6136, \"The answer should be a valid movie id\""
   ]
  },
  {
   "cell_type": "markdown",
   "id": "e33f6ee9",
   "metadata": {
    "deletable": false,
    "editable": false,
    "nbgrader": {
     "cell_type": "markdown",
     "checksum": "550b1c50175c5c360c5ab74d373cfe5a",
     "grade": false,
     "grade_id": "cell-04b2f389431845a3",
     "locked": true,
     "schema_version": 3,
     "solution": false,
     "task": false
    },
    "pycharm": {
     "name": "#%% md\n"
    }
   },
   "source": [
    "### 2.2.3 What are the ten most common terms in the index? [0.5 pts]\n",
    "Your answer should be a list of (word, number_of_documents) tuples sorted in descending order, e.g.:\n",
    "```\n",
    "[(\"netflix\", 123), (\"originals\", 118), ...]\n",
    "```"
   ]
  },
  {
   "cell_type": "code",
   "execution_count": null,
   "id": "72b9e02f",
   "metadata": {
    "deletable": false,
    "nbgrader": {
     "cell_type": "code",
     "checksum": "78daf4c9455b35de5165fd95ea0cccd9",
     "grade": false,
     "grade_id": "cell-d7dba59bc076d4ce",
     "locked": false,
     "schema_version": 3,
     "solution": true,
     "task": false
    },
    "pycharm": {
     "name": "#%%\n"
    }
   },
   "outputs": [],
   "source": [
    "answer_2_2_3 = []\n",
    "# ADD YOUR CODE HERE"
   ]
  },
  {
   "cell_type": "code",
   "execution_count": null,
   "id": "d2716801",
   "metadata": {
    "deletable": false,
    "editable": false,
    "nbgrader": {
     "cell_type": "code",
     "checksum": "9a2801c47f1110292b81bfdbfaf5cc12",
     "grade": true,
     "grade_id": "cell-64e46bbdf24b4bde",
     "locked": true,
     "points": 0.5,
     "schema_version": 3,
     "solution": false,
     "task": false
    },
    "pycharm": {
     "name": "#%%\n"
    }
   },
   "outputs": [],
   "source": [
    "assert all([isinstance(term, str) and isinstance(freq, int) for term, freq in answer_2_2_3]), \"Make sure your list has the correct format\"\n",
    "frequencies = list(map(lambda x: x[1], answer_2_2_3))\n",
    "assert frequencies == sorted(frequencies, reverse=True), \"Make sure that your list is sorted in descending order\""
   ]
  },
  {
   "cell_type": "markdown",
   "id": "ea52bc79",
   "metadata": {
    "deletable": false,
    "editable": false,
    "nbgrader": {
     "cell_type": "markdown",
     "checksum": "2624b7755e17447fd0c0b99fd11eefd0",
     "grade": false,
     "grade_id": "cell-e37c076f638cdb07",
     "locked": true,
     "schema_version": 3,
     "solution": false,
     "task": false
    },
    "pycharm": {
     "name": "#%% md\n"
    }
   },
   "source": [
    "### 📚 Stopwords\n",
    "If you take a closer look at the most common terms in our index, it might be noticable that they are articles and prepositions. These terms tend to carry relatively limited information and are typically referred to as *stopwords*. Historically, many information retrieval systems used to remove (i.e., \"stop\") these common words during index creation. We will look into dealing with stopwords in an upcoming week."
   ]
  },
  {
   "cell_type": "markdown",
   "id": "3b4669a6",
   "metadata": {
    "deletable": false,
    "editable": false,
    "nbgrader": {
     "cell_type": "markdown",
     "checksum": "4097666173eaec56c95e27a7f21f94a3",
     "grade": false,
     "grade_id": "cell-c7922acd67fcd22b",
     "locked": true,
     "schema_version": 3,
     "solution": false,
     "task": false
    },
    "pycharm": {
     "name": "#%% md\n"
    }
   },
   "source": [
    "## 2.3 Boolean AND search [2 pts]\n",
    "\n",
    "📝  Next, we use our inverted index to answer boolean AND queries (also called conjunctive queries). Complete the function `search_and` below. The input to your function is your index and a list of keywords connected by the AND operator. The call:\n",
    "\n",
    "`search_and(index, [\"captain\", \"america\", \"avenger\"])`\n",
    "\n",
    "should corresponds to the boolean query:\n",
    "\n",
    "`captain AND america AND avenger`\n",
    "\n",
    "The result of your function should be a list of movie titles sorted in alphabetical order.\n",
    "\n",
    "</br>\n",
    "<div class=\"alert alert-warning\">\n",
    "💡 Tip I: Use the helper dictionary \"id2title\" to find a movie's title using its id.\n",
    "<br/>\n",
    "💡 Tip II: Set operations might help to quickly find common elements between two lists.\n",
    "</div>"
   ]
  },
  {
   "cell_type": "code",
   "execution_count": null,
   "id": "2a336779",
   "metadata": {
    "deletable": false,
    "nbgrader": {
     "cell_type": "code",
     "checksum": "a93756829f1a104ad4d1deb427a7f8f8",
     "grade": false,
     "grade_id": "2_2-search-and",
     "locked": false,
     "schema_version": 3,
     "solution": true,
     "task": false
    },
    "pycharm": {
     "name": "#%%\n"
    }
   },
   "outputs": [],
   "source": [
    "# Create a mapping of move ids to their title\n",
    "id2title = df.set_index(\"id\").title.to_dict()\n",
    "\n",
    "\n",
    "def search_and(index: Dict, tokens: List[str]) -> List[str]:\n",
    "    \"\"\"\n",
    "    >>> search_and(index, [\"stranger\", \"things\"])\n",
    "    ['beyond stranger things', 'stranger things']\n",
    "    \n",
    "    >>> search_and(index, [\"black\", \"mirror\"])\n",
    "    ['black mirror', 'black mirror: bandersnatch', 'death to 2020']\n",
    "    \n",
    "    >>> search_and(index, [\"queer\", \"eye\"])\n",
    "    ['queer eye', 'queer eye germany', 'queer eye: brazil', \"queer eye: we're in japan!\"]\n",
    "    \"\"\"\n",
    "    titles = []\n",
    "\n",
    "    # ADD YOUR CODE HERE\n",
    "\n",
    "    return titles"
   ]
  },
  {
   "cell_type": "code",
   "execution_count": null,
   "id": "e9df1159",
   "metadata": {
    "deletable": false,
    "editable": false,
    "nbgrader": {
     "cell_type": "code",
     "checksum": "def59853220621ca4801546d8ae47c3a",
     "grade": true,
     "grade_id": "test_2_2-search-and",
     "locked": true,
     "points": 1,
     "schema_version": 3,
     "solution": false,
     "task": false
    },
    "pycharm": {
     "name": "#%%\n"
    }
   },
   "outputs": [],
   "source": [
    "test(search_and)"
   ]
  },
  {
   "cell_type": "markdown",
   "id": "84415bd9",
   "metadata": {
    "deletable": false,
    "editable": false,
    "nbgrader": {
     "cell_type": "markdown",
     "checksum": "b3b3b5f83fc75b4de9d705a766407265",
     "grade": false,
     "grade_id": "cell-545964d569ac6878",
     "locked": true,
     "schema_version": 3,
     "solution": false,
     "task": false
    },
    "pycharm": {
     "name": "#%% md\n"
    }
   },
   "source": [
    "## 2.4 Boolean OR search [2 pts]\n",
    "\n",
    "📝  Next, complete the method `search_or` to answer disjuctive / OR queries.\n",
    "\n",
    "`search_or(index, [\"captain\", \"america\", \"avenger\"])`\n",
    "\n",
    "should corresponds to the boolean query:\n",
    "\n",
    "`captain OR america OR avenger`\n",
    "\n",
    "Sort the resulting titles alphabetically."
   ]
  },
  {
   "cell_type": "code",
   "execution_count": null,
   "id": "74bf68b8",
   "metadata": {
    "deletable": false,
    "nbgrader": {
     "cell_type": "code",
     "checksum": "0e8d4e06a4ec759347c0a9f71c772909",
     "grade": false,
     "grade_id": "2_3-search-or",
     "locked": false,
     "schema_version": 3,
     "solution": true,
     "task": false
    },
    "pycharm": {
     "name": "#%%\n"
    }
   },
   "outputs": [],
   "source": [
    "def search_or(index: Dict, tokens: List[str]):\n",
    "    \"\"\"\n",
    "    >>> search_or(index, [\"mindhunter\", \"dahmer\"])\n",
    "    ['conversations with a killer: the jeffrey dahmer tapes', 'dahmer - monster: the jeffrey dahmer story', 'mindhunter']\n",
    "    \n",
    "    >>> search_or(index, [\"burnham\", \"brennan\"])\n",
    "    ['bo burnham: inside', 'bo burnham: make happy', 'bo burnham: the inside outtakes', 'bo burnham: what.', 'neal brennan: 3 mics', 'neal brennan: blocks']\n",
    "    \"\"\"\n",
    "    titles = []\n",
    "\n",
    "    # ADD YOUR CODE HERE\n",
    "\n",
    "    return titles"
   ]
  },
  {
   "cell_type": "code",
   "execution_count": null,
   "id": "abca25b9",
   "metadata": {
    "deletable": false,
    "editable": false,
    "nbgrader": {
     "cell_type": "code",
     "checksum": "5dc68d3ba76adc087c0a5a3b4c74d468",
     "grade": true,
     "grade_id": "test_2_3-search-or",
     "locked": true,
     "points": 2,
     "schema_version": 3,
     "solution": false,
     "task": false
    },
    "pycharm": {
     "name": "#%%\n"
    }
   },
   "outputs": [],
   "source": [
    "test(search_or)"
   ]
  },
  {
   "cell_type": "markdown",
   "id": "fbe52a4e",
   "metadata": {
    "deletable": false,
    "editable": false,
    "nbgrader": {
     "cell_type": "markdown",
     "checksum": "f4e87687ffee798f066c4ecaec9923ca",
     "grade": false,
     "grade_id": "cell-43bd76f1d9a60a6a",
     "locked": true,
     "schema_version": 3,
     "solution": false,
     "task": false
    },
    "pycharm": {
     "name": "#%% md\n"
    }
   },
   "source": [
    "## 2.5 Boolean AND NOT [1 pts]\n",
    "📝  Third, extend your answer to the conjunctive query from 2.3 above to handle a list of negated terms.\n",
    "\n",
    "```\n",
    "search_and_not(\n",
    "    index,\n",
    "    [\"queens\", \"gambit\"],\n",
    "    excluded_tokens=[\"netflix\", \"afterparty\"],\n",
    ")\n",
    "```\n",
    "\n",
    "should corresponds to the boolean query:\n",
    "\n",
    "`queens AND gambit AND NOT (\"netflix\" OR \"afterparty\")`\n",
    "\n",
    "Sort the resulting titles alphabetically.\n",
    "\n",
    "<div class=\"alert alert-warning\">\n",
    "💡 Tip: Think about how you can incorporate the \"search_and\" and \"search_or\" methods from above to make this task easier.\n",
    "</div>"
   ]
  },
  {
   "cell_type": "code",
   "execution_count": null,
   "id": "5fec1415",
   "metadata": {
    "deletable": false,
    "nbgrader": {
     "cell_type": "code",
     "checksum": "568b6f1e467d560a1a98c29bd7a58e11",
     "grade": false,
     "grade_id": "2_4-search-and-not",
     "locked": false,
     "schema_version": 3,
     "solution": true,
     "task": false
    },
    "pycharm": {
     "name": "#%%\n"
    }
   },
   "outputs": [],
   "source": [
    "def search_and_not(index: Dict, tokens: List[str], excluded_tokens: List[str] = []):\n",
    "    \"\"\"    \n",
    "    >>> search_and_not(index, [\"stranger\", \"things\"], [])\n",
    "    ['beyond stranger things', 'stranger things']\n",
    "    \n",
    "    >>> search_and_not(index, [\"stranger\", \"things\"], [\"beyond\"])\n",
    "    ['stranger things']\n",
    "    \n",
    "    >>> search_and_not(index, [\"queens\", \"gambit\"], [\"netflix\", \"afterparty\"])\n",
    "    [\"creating the queen's gambit\", \"the queen's gambit\"]\n",
    "    \n",
    "    >>> search_and_not(index, [\"queens\", \"gambit\"], [\"netflix\", \"afterparty\", \"creating\"])\n",
    "    [\"the queen's gambit\"]\n",
    "    \"\"\"\n",
    "    titles = []\n",
    "\n",
    "    # ADD YOUR CODE HERE\n",
    "    \n",
    "    return titles"
   ]
  },
  {
   "cell_type": "code",
   "execution_count": null,
   "id": "178bd88a",
   "metadata": {
    "deletable": false,
    "editable": false,
    "nbgrader": {
     "cell_type": "code",
     "checksum": "f9b8e391fac5e0a5e271fb98dd8ad498",
     "grade": true,
     "grade_id": "test_2_4-search-and-not",
     "locked": true,
     "points": 1,
     "schema_version": 3,
     "solution": false,
     "task": false
    },
    "pycharm": {
     "name": "#%%\n"
    }
   },
   "outputs": [],
   "source": [
    "test(search_and_not)"
   ]
  },
  {
   "cell_type": "markdown",
   "id": "09bb5563",
   "metadata": {
    "deletable": false,
    "editable": false,
    "nbgrader": {
     "cell_type": "markdown",
     "checksum": "aa289c2e5987128409b5d22274586d6c",
     "grade": false,
     "grade_id": "cell-0a8b90c72a1c1856",
     "locked": true,
     "schema_version": 3,
     "solution": false,
     "task": false
    },
    "pycharm": {
     "name": "#%% md\n"
    }
   },
   "source": [
    "## 2.6 Ranked Boolean Search [2 pts]\n",
    "📝  So far, we have sorted our results mostly alphabetically. By definition, boolean search is NOT ranked and just returns all items that match the query. However, we can introduce a simple ranking for an OR search, for example, by listing documents that match more query terms at the top.\n",
    "\n",
    "Extend your OR search from 2.4 to return a ranked list of movies. Return not only the movie titles but the number of matching query tokens for the movie. A query `[\"black\", \"mirror\"]` might result in: `[(\"black mirror\", 2), (\"black panther\", 1), ...]`\n",
    "\n",
    "Rank the resulting movies from most matching keywords to least matching keywords. When two movies have the same amount of matches, rank them alphabetically by movie title (A -> Z). Since the resulting list can get very long, return only the top k results.\n",
    "\n",
    "<div class=\"alert alert-warning\">\n",
    "💡 Tip: The \"collections.Counter\" class might be useful to simplify your code.\n",
    "</div>"
   ]
  },
  {
   "cell_type": "code",
   "execution_count": null,
   "id": "de022e32",
   "metadata": {
    "deletable": false,
    "nbgrader": {
     "cell_type": "code",
     "checksum": "56a26be480cee2533dacc51dcb7953eb",
     "grade": false,
     "grade_id": "2_5-search-ranked-or",
     "locked": false,
     "schema_version": 3,
     "solution": true,
     "task": false
    },
    "pycharm": {
     "name": "#%%\n"
    }
   },
   "outputs": [],
   "source": [
    "def search_ranked_or(index: Dict, tokens: List[str], top_k: int):\n",
    "    \"\"\"\n",
    "    >>> search_ranked_or(index, [\"world\", \"planet\", \"david\", \"attenborough\"], 4)\n",
    "    [('david attenborough: a life on our planet', 4), ('breaking boundaries: the science of our planet', 3), ('aerials', 2), ('dark tourist', 2)]\n",
    "    \n",
    "    >>> search_ranked_or(index, [\"teenage\", \"drug\", \"lord\", \"fast\"], 3)\n",
    "    [('shiny_flakes: the teenage drug lord', 4), ('how to sell drugs online (fast)', 3), ('earth and blood', 2)]\n",
    "    \n",
    "    >>> search_ranked_or(index, [\"black\", \"mirror\", \"2020\"], 3)\n",
    "    [('death to 2020', 3), ('black mirror', 2), ('black mirror: bandersnatch', 2)]\n",
    "    \"\"\"\n",
    "    titles = []\n",
    "\n",
    "    # ADD YOUR CODE HERE\n",
    "\n",
    "    return titles[:top_k]"
   ]
  },
  {
   "cell_type": "code",
   "execution_count": null,
   "id": "ea4f0c4f",
   "metadata": {
    "deletable": false,
    "editable": false,
    "nbgrader": {
     "cell_type": "code",
     "checksum": "ee5aa92e318b8030799d37b8eecd8eea",
     "grade": true,
     "grade_id": "test_2_5-search-ranked-or",
     "locked": true,
     "points": 2,
     "schema_version": 3,
     "solution": false,
     "task": false
    },
    "pycharm": {
     "name": "#%%\n"
    }
   },
   "outputs": [],
   "source": [
    "test(search_ranked_or)"
   ]
  },
  {
   "cell_type": "markdown",
   "id": "b85d5545",
   "metadata": {
    "deletable": false,
    "editable": false,
    "nbgrader": {
     "cell_type": "markdown",
     "checksum": "761c2d75a6b02bc7ef72d0cdbf012f6a",
     "grade": false,
     "grade_id": "cell-d6b119d70a2c127f",
     "locked": true,
     "schema_version": 3,
     "solution": false,
     "task": false
    },
    "pycharm": {
     "name": "#%% md\n"
    }
   },
   "source": [
    "# Part III Bonus - Parametric Search\n",
    "\n",
    "Search systems often allow for more detailed filtering of results using search parameters. These can come in handy to only show hotels in our price range, clothes in our size, or last-minute presents that ship with same-day delivery. This functionality is traditionally enabled using parametric indices, which index the meta-data of our items. In the case of movies, that might include fields like genre, author, or actors.\n",
    "\n",
    "## Parametric Inverted Index [1 pts]\n",
    "As an optional bonus task, extend the index created in task 2.1 to contain movie meta-data information. Add the movies' `genres`, `actors`, `directors`, and `release year` to the same index by creating compound keys such as:\n",
    "\n",
    "```Python\n",
    "{\n",
    "    \"genre:comedy\": [1, 2, 100, ...],\n",
    "    \"director:quentin-tarentino\": [movie_ids],\n",
    "    \"actor:meryl-streep\": [movie_ids],\n",
    "    \"year:2020\": [movie_ids],\n",
    "    \"country:nl\": [movie_ids],\n",
    "    ...\n",
    "}\n",
    "```\n",
    "\n",
    "Afterward, you should be able to use your new index with your and, or, and_not functions created above to answer the three questions below."
   ]
  },
  {
   "cell_type": "code",
   "execution_count": null,
   "id": "5835c3a9",
   "metadata": {
    "deletable": false,
    "nbgrader": {
     "cell_type": "code",
     "checksum": "6248d5d8ce69f59deb05379d1a1e28b2",
     "grade": false,
     "grade_id": "3_1-parametric-index",
     "locked": false,
     "schema_version": 3,
     "solution": true,
     "task": false
    },
    "pycharm": {
     "name": "#%%\n"
    }
   },
   "outputs": [],
   "source": [
    "def create_parametric_index(df: pd.DataFrame) -> Dict[str, List[int]]:\n",
    "    \"\"\"\n",
    "    >>> parametric_index = create_parametric_index(df)\n",
    "    >>> parametric_index[\"actor:meryl-streep\"]\n",
    "    [45, 239, 706, 1723, 3268, 3276, 3598, 4310, 4577]\n",
    "    \n",
    "    >>> parametric_index[\"director:martin-scorsese\"]\n",
    "    [224, 284, 2677, 2803]\n",
    "    \n",
    "    >>> parametric_index[\"year:1975\"]\n",
    "    [5, 25, 30]\n",
    "    \"\"\"\n",
    "    index = {}\n",
    "\n",
    "    # ADD YOUR CODE HERE\n",
    "\n",
    "    return index\n",
    "\n",
    "\n",
    "parametric_index = create_parametric_index(df)"
   ]
  },
  {
   "cell_type": "code",
   "execution_count": null,
   "id": "20520a76",
   "metadata": {
    "deletable": false,
    "editable": false,
    "nbgrader": {
     "cell_type": "code",
     "checksum": "e5d728110080bde53e51b670896ea6da",
     "grade": true,
     "grade_id": "test_3_1-parametric-index",
     "locked": true,
     "points": 1,
     "schema_version": 3,
     "solution": false,
     "task": false
    },
    "pycharm": {
     "name": "#%%\n"
    }
   },
   "outputs": [],
   "source": [
    "test(create_parametric_index)"
   ]
  },
  {
   "cell_type": "markdown",
   "id": "6817c123",
   "metadata": {
    "deletable": false,
    "editable": false,
    "nbgrader": {
     "cell_type": "markdown",
     "checksum": "b619b4c6bb0c38b2060c8b3639250f88",
     "grade": false,
     "grade_id": "cell-8d7d209d8270c6c4",
     "locked": true,
     "schema_version": 3,
     "solution": false,
     "task": false
    },
    "pycharm": {
     "name": "#%% md\n"
    }
   },
   "source": [
    "### 3.2.1 Query I  [0.5 pts]\n",
    "Which shows was comedian John Mulaney part of in 2017?"
   ]
  },
  {
   "cell_type": "code",
   "execution_count": null,
   "id": "3c3d91e8",
   "metadata": {
    "deletable": false,
    "nbgrader": {
     "cell_type": "code",
     "checksum": "8c74bad6263448958c2a7cb93d48aae9",
     "grade": false,
     "grade_id": "3_2_1-bonus",
     "locked": false,
     "schema_version": 3,
     "solution": true,
     "task": false
    },
    "pycharm": {
     "name": "#%%\n"
    }
   },
   "outputs": [],
   "source": [
    "answer_3_2_1 = []\n",
    "# ADD YOUR CODE HERE"
   ]
  },
  {
   "cell_type": "code",
   "execution_count": null,
   "id": "e3e31142",
   "metadata": {
    "deletable": false,
    "editable": false,
    "nbgrader": {
     "cell_type": "code",
     "checksum": "18ca82ff754b1a2c3c52dcfdd71a3a84",
     "grade": true,
     "grade_id": "test_3_2_1-bonus",
     "locked": true,
     "points": 0.5,
     "schema_version": 3,
     "solution": false,
     "task": false
    },
    "pycharm": {
     "name": "#%%\n"
    }
   },
   "outputs": [],
   "source": [
    "assert all([isinstance(a, str) for a in answer_3_2_1]), \"Expecting a list of movie titles\""
   ]
  },
  {
   "cell_type": "markdown",
   "id": "3f1b776a",
   "metadata": {
    "deletable": false,
    "editable": false,
    "nbgrader": {
     "cell_type": "markdown",
     "checksum": "c1deb547983488259d4e5d9782a89e32",
     "grade": false,
     "grade_id": "cell-f9d30b52c88d391e",
     "locked": true,
     "schema_version": 3,
     "solution": false,
     "task": false
    },
    "pycharm": {
     "name": "#%% md\n"
    }
   },
   "source": [
    "### 3.2.2 Query II [0.5 pts]\n",
    "\n",
    "Which indexed movies starring Leonardo DiCaprio were NOT directed by Martin Scorsese?"
   ]
  },
  {
   "cell_type": "code",
   "execution_count": null,
   "id": "17e50ba0",
   "metadata": {
    "deletable": false,
    "nbgrader": {
     "cell_type": "code",
     "checksum": "ea431a64ed95ecb52319118c603a0759",
     "grade": false,
     "grade_id": "cell-1554859ea0c8737f",
     "locked": false,
     "schema_version": 3,
     "solution": true,
     "task": false
    },
    "pycharm": {
     "name": "#%%\n"
    }
   },
   "outputs": [],
   "source": [
    "answer_3_2_2 = []\n",
    "# ADD YOUR CODE HERE"
   ]
  },
  {
   "cell_type": "code",
   "execution_count": null,
   "id": "351c3091",
   "metadata": {
    "deletable": false,
    "editable": false,
    "nbgrader": {
     "cell_type": "code",
     "checksum": "038d77545fe249e53f519829ed526978",
     "grade": true,
     "grade_id": "test_3_2_2-bonus",
     "locked": true,
     "points": 0.5,
     "schema_version": 3,
     "solution": false,
     "task": false
    },
    "pycharm": {
     "name": "#%%\n"
    }
   },
   "outputs": [],
   "source": [
    "assert all([isinstance(a, str) for a in answer_3_2_2]), \"Expecting a list of movie titles\""
   ]
  }
 ],
 "metadata": {
  "kernelspec": {
   "display_name": "Python 3 (ipykernel)",
   "language": "python",
   "name": "python3"
  },
  "language_info": {
   "codemirror_mode": {
    "name": "ipython",
    "version": 3
   },
   "file_extension": ".py",
   "mimetype": "text/x-python",
   "name": "python",
   "nbconvert_exporter": "python",
   "pygments_lexer": "ipython3",
   "version": "3.9.19"
  }
 },
 "nbformat": 4,
 "nbformat_minor": 5
}
